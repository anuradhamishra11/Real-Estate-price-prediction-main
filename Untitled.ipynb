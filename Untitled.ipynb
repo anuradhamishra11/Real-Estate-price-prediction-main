{
 "cells": [
  {
   "cell_type": "code",
   "execution_count": 1,
   "id": "3b64dcb1",
   "metadata": {},
   "outputs": [],
   "source": [
    "a = ['/opt/render/project/src/', '/Naukri_RavneetKaur[4y_6m].pdf']"
   ]
  },
  {
   "cell_type": "code",
   "execution_count": 3,
   "id": "922a6a56",
   "metadata": {},
   "outputs": [
    {
     "data": {
      "text/plain": [
       "True"
      ]
     },
     "execution_count": 3,
     "metadata": {},
     "output_type": "execute_result"
    }
   ],
   "source": [
    "'opt' in a[0]"
   ]
  },
  {
   "cell_type": "code",
   "execution_count": 5,
   "id": "51be1b12",
   "metadata": {},
   "outputs": [],
   "source": [
    "d_s = 'DataStore/Resumes/Resume_Naveen.K.M.docx'"
   ]
  },
  {
   "cell_type": "code",
   "execution_count": 6,
   "id": "3f13f33b",
   "metadata": {},
   "outputs": [],
   "source": [
    "prefix_path =\"/opt/render/project/src/\""
   ]
  },
  {
   "cell_type": "code",
   "execution_count": 10,
   "id": "d3b00840",
   "metadata": {},
   "outputs": [],
   "source": [
    "a = prefix_path+d_s"
   ]
  },
  {
   "cell_type": "code",
   "execution_count": 11,
   "id": "68ee9263",
   "metadata": {},
   "outputs": [
    {
     "data": {
      "text/plain": [
       "True"
      ]
     },
     "execution_count": 11,
     "metadata": {},
     "output_type": "execute_result"
    }
   ],
   "source": [
    "a == '/opt/render/project/src/DataStore/Resumes/Resume_Naveen.K.M.docx'"
   ]
  },
  {
   "cell_type": "code",
   "execution_count": null,
   "id": "4e17c9b2",
   "metadata": {},
   "outputs": [],
   "source": []
  }
 ],
 "metadata": {
  "kernelspec": {
   "display_name": "Python 3",
   "language": "python",
   "name": "python3"
  },
  "language_info": {
   "codemirror_mode": {
    "name": "ipython",
    "version": 3
   },
   "file_extension": ".py",
   "mimetype": "text/x-python",
   "name": "python",
   "nbconvert_exporter": "python",
   "pygments_lexer": "ipython3",
   "version": "3.7.10"
  }
 },
 "nbformat": 4,
 "nbformat_minor": 5
}
